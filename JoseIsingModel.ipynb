{
 "cells": [
  {
   "cell_type": "code",
   "execution_count": 1,
   "metadata": {},
   "outputs": [
    {
     "data": {
      "text/plain": [
       "array([[ 1,  1,  1, -1, -1,  1, -1, -1,  1, -1],\n",
       "       [-1,  1,  1,  1, -1, -1,  1,  1, -1,  1],\n",
       "       [ 1, -1,  1, -1,  1,  1,  1,  1, -1, -1],\n",
       "       [ 1,  1,  1,  1,  1,  1, -1, -1,  1, -1],\n",
       "       [-1,  1, -1,  1, -1, -1, -1,  1,  1,  1],\n",
       "       [-1,  1, -1,  1, -1, -1, -1, -1, -1, -1],\n",
       "       [ 1,  1, -1, -1, -1,  1, -1, -1, -1,  1],\n",
       "       [ 1,  1, -1, -1,  1,  1,  1,  1,  1, -1],\n",
       "       [-1, -1, -1, -1, -1,  1,  1, -1, -1,  1],\n",
       "       [-1,  1,  1, -1,  1, -1, -1,  1,  1, -1]])"
      ]
     },
     "execution_count": 1,
     "metadata": {},
     "output_type": "execute_result"
    }
   ],
   "source": [
    "import numpy as np\n",
    "\n",
    "def random_spin_field(N, M):\n",
    "    return np.random.choice([-1, 1], size=(N, M))\n",
    "\n",
    "random_spin_field(10, 10)"
   ]
  },
  {
   "cell_type": "code",
   "execution_count": 2,
   "metadata": {},
   "outputs": [
    {
     "data": {
      "text/plain": [
       "(5, 5)"
      ]
     },
     "execution_count": 2,
     "metadata": {},
     "output_type": "execute_result"
    }
   ],
   "source": [
    "A=np.random.rand(5,5)\n",
    "A.shape"
   ]
  },
  {
   "cell_type": "code",
   "execution_count": 3,
   "metadata": {},
   "outputs": [
    {
     "data": {
      "image/png": "[encoded data removed]",
      "text/plain": [
       "<PIL.Image.Image image mode=L size=200x200 at 0x7F7C79006E80>"
      ]
     },
     "execution_count": 3,
     "metadata": {},
     "output_type": "execute_result"
    }
   ],
   "source": [
    "# pip install pillow\n",
    "from PIL import Image\n",
    "\n",
    "def display_spin_field(field):\n",
    "    return Image.fromarray(np.uint8((field + 1) * 0.5 * 255))  # 0 ... 255\n",
    "\n",
    "display_spin_field(random_spin_field(200, 200))"
   ]
  },
  {
   "cell_type": "code",
   "execution_count": 17,
   "metadata": {},
   "outputs": [],
   "source": [
    "def ising_step(Z, beta=0.4):\n",
    "    Z[0,:] = Z[-1,:] = Z[:,0] = Z[:,-1] = 0\n",
    "    N = np.zeros(Z.shape, int)\n",
    "    N[1:-1,1:-1]= (Z[0:-2,0:-2] + Z[0:-2,1:-1] + Z[0:-2,2:] +\n",
    "                   Z[1:-1,0:-2]                + Z[1:-1,2:] +\n",
    "                   Z[2:  ,0:-2] + Z[2:  ,1:-1] + Z[2:  ,2:])\n",
    "    dE = 2 * N\n",
    "    flip=(dE[1:-1,1:-1]<=0) ##| \n",
    "    flup= np.exp(-dE[1:-1,1:-1] * beta) > np.random.random(size=N[1:-1,1:-1].shape)\n",
    "    Z[1:-1,1:-1][flip | flup] *= -1\n",
    "    return Z"
   ]
  },
  {
   "cell_type": "code",
   "execution_count": 18,
   "metadata": {},
   "outputs": [
    {
     "data": {
      "image/png": "[encoded data removed]",
      "text/plain": [
       "<PIL.Image.Image image mode=L size=200x200 at 0x7F7C88468518>"
      ]
     },
     "execution_count": 18,
     "metadata": {},
     "output_type": "execute_result"
    }
   ],
   "source": [
    "display_spin_field(ising_step(random_spin_field(200, 200)))"
   ]
  },
  {
   "cell_type": "code",
   "execution_count": 19,
   "metadata": {},
   "outputs": [],
   "source": [
    "from ipywidgets import interact\n",
    "\n",
    "def display_ising_sequence(images):\n",
    "    def _show(frame=(0, len(images) - 1)):\n",
    "        return display_spin_field(images[frame])\n",
    "    return interact(_show)"
   ]
  },
  {
   "cell_type": "code",
   "execution_count": 32,
   "metadata": {},
   "outputs": [
    {
     "data": {
      "application/vnd.jupyter.widget-view+json": {
       "model_id": "8cb86cfb0d8649d4b206036c0172e022",
       "version_major": 2,
       "version_minor": 0
      },
      "text/plain": [
       "interactive(children=(IntSlider(value=50, description='frame'), Output()), _dom_classes=('widget-interact',))"
      ]
     },
     "metadata": {},
     "output_type": "display_data"
    }
   ],
   "source": [
    "images = [random_spin_field(200, 200)]\n",
    "for i in range(100):\n",
    "    images.append(ising_step(images[-1].copy()))\n",
    "display_ising_sequence(images);"
   ]
  },
  {
   "cell_type": "markdown",
   "metadata": {},
   "source": [
    "### This is an example of a boolean mask on a numerical array"
   ]
  },
  {
   "cell_type": "code",
   "execution_count": 9,
   "metadata": {},
   "outputs": [
    {
     "data": {
      "text/plain": [
       "array([[ 1,  5,  0,  3,  3],\n",
       "       [ 2,  7,  9,  3,  5],\n",
       "       [ 3,  2,  4,  7,  6],\n",
       "       [ 8,  6,  8,  9, 10]])"
      ]
     },
     "execution_count": 9,
     "metadata": {},
     "output_type": "execute_result"
    }
   ],
   "source": [
    "x1"
   ]
  },
  {
   "cell_type": "code",
   "execution_count": 10,
   "metadata": {},
   "outputs": [],
   "source": [
    "flip = (x1<5)"
   ]
  },
  {
   "cell_type": "code",
   "execution_count": 11,
   "metadata": {},
   "outputs": [
    {
     "data": {
      "text/plain": [
       "array([[ True, False,  True,  True,  True],\n",
       "       [ True, False, False,  True, False],\n",
       "       [ True,  True,  True, False, False],\n",
       "       [False, False, False, False, False]])"
      ]
     },
     "execution_count": 11,
     "metadata": {},
     "output_type": "execute_result"
    }
   ],
   "source": [
    "flip"
   ]
  },
  {
   "cell_type": "code",
   "execution_count": 12,
   "metadata": {},
   "outputs": [],
   "source": [
    "x1[flip]=1"
   ]
  },
  {
   "cell_type": "code",
   "execution_count": 13,
   "metadata": {},
   "outputs": [
    {
     "data": {
      "text/plain": [
       "array([[ 1,  5,  1,  1,  1],\n",
       "       [ 1,  7,  9,  1,  5],\n",
       "       [ 1,  1,  1,  7,  6],\n",
       "       [ 8,  6,  8,  9, 10]])"
      ]
     },
     "execution_count": 13,
     "metadata": {},
     "output_type": "execute_result"
    }
   ],
   "source": [
    "x1"
   ]
  },
  {
   "cell_type": "code",
   "execution_count": 36,
   "metadata": {},
   "outputs": [],
   "source": [
    "def ising_step_J(Z, beta=0.4):\n",
    "    Z[0,:] = Z[-1,:] = Z[:,0] = Z[:,-1] = 0\n",
    "    N = np.zeros(Z.shape, int)\n",
    "    N[1:-1,1:-1]= (Z[0:-2,0:-2] + Z[0:-2,1:-1] + Z[0:-2,2:] +\n",
    "                   Z[1:-1,0:-2]                + Z[1:-1,2:] +\n",
    "                   Z[2:  ,0:-2] + Z[2:  ,1:-1] + Z[2:  ,2:])\n",
    "    dE = 2 * N\n",
    "    flip=(dE[1:-1,1:-1]<=0) ##| \n",
    "    flup= np.exp(-dE[1:-1,1:-1] * beta) > np.random.random(size=N[1:-1,1:-1].shape)\n",
    "    Z[1:-1,1:-1][flip | flup] *= -1\n",
    "    print(\"Matrixes N,Z Internal\")\n",
    "    print(N)\n",
    "    print(Z)\n",
    "    print('')\n",
    "    return Z"
   ]
  },
  {
   "cell_type": "code",
   "execution_count": 37,
   "metadata": {},
   "outputs": [],
   "source": [
    "A=random_spin_field(10, 10)"
   ]
  },
  {
   "cell_type": "code",
   "execution_count": 38,
   "metadata": {},
   "outputs": [
    {
     "data": {
      "text/plain": [
       "array([[-1,  1, -1,  1, -1, -1,  1,  1, -1,  1],\n",
       "       [-1,  1, -1,  1,  1, -1,  1,  1, -1, -1],\n",
       "       [ 1, -1,  1,  1,  1,  1,  1,  1,  1, -1],\n",
       "       [ 1, -1,  1,  1, -1, -1,  1,  1, -1,  1],\n",
       "       [-1, -1,  1, -1, -1, -1,  1, -1,  1,  1],\n",
       "       [-1,  1,  1, -1, -1,  1,  1,  1,  1, -1],\n",
       "       [ 1,  1, -1,  1, -1,  1, -1,  1,  1,  1],\n",
       "       [ 1,  1,  1,  1,  1, -1, -1, -1, -1, -1],\n",
       "       [ 1,  1,  1, -1, -1, -1, -1,  1, -1, -1],\n",
       "       [ 1,  1, -1, -1, -1,  1, -1, -1, -1,  1]])"
      ]
     },
     "execution_count": 38,
     "metadata": {},
     "output_type": "execute_result"
    }
   ],
   "source": [
    "A"
   ]
  },
  {
   "cell_type": "code",
   "execution_count": 39,
   "metadata": {},
   "outputs": [
    {
     "name": "stdout",
     "output_type": "stream",
     "text": [
      "Matrixes N,Z Internal\n",
      "[[ 0  0  0  0  0  0  0  0  0  0]\n",
      " [ 0 -1  3  3  3  5  3  3  3  0]\n",
      " [ 0  1  2  4  2  2  4  4  1  0]\n",
      " [ 0  1  0  2  0  2  2  4  3  0]\n",
      " [ 0  3  0  0 -4  0  2  6  1  0]\n",
      " [ 0  1  0 -2 -2 -2  2  4  3  0]\n",
      " [ 0  3  6  0  2 -2  2  0  1  0]\n",
      " [ 0  3  4  0 -2 -4 -2 -2  1  0]\n",
      " [ 0  3  3  3 -1 -3 -3 -5 -1  0]\n",
      " [ 0  0  0  0  0  0  0  0  0  0]]\n",
      "[[ 0  0  0  0  0  0  0  0  0  0]\n",
      " [ 0 -1 -1  1  1 -1  1  1  1  0]\n",
      " [ 0 -1  1  1  1  1  1  1 -1  0]\n",
      " [ 0 -1 -1  1  1 -1  1  1 -1  0]\n",
      " [ 0 -1 -1  1  1  1  1 -1  1  0]\n",
      " [ 0 -1 -1  1  1 -1  1  1  1  0]\n",
      " [ 0  1 -1 -1 -1 -1 -1 -1  1  0]\n",
      " [ 0  1 -1 -1 -1  1  1  1 -1  0]\n",
      " [ 0  1  1  1  1  1  1 -1  1  0]\n",
      " [ 0  0  0  0  0  0  0  0  0  0]]\n",
      "\n"
     ]
    }
   ],
   "source": [
    "B=ising_step_J(A)"
   ]
  },
  {
   "cell_type": "code",
   "execution_count": 40,
   "metadata": {},
   "outputs": [
    {
     "data": {
      "text/plain": [
       "array([[ 0,  0,  0,  0,  0,  0,  0,  0,  0,  0],\n",
       "       [ 0, -1, -1,  1,  1, -1,  1,  1,  1,  0],\n",
       "       [ 0, -1,  1,  1,  1,  1,  1,  1, -1,  0],\n",
       "       [ 0, -1, -1,  1,  1, -1,  1,  1, -1,  0],\n",
       "       [ 0, -1, -1,  1,  1,  1,  1, -1,  1,  0],\n",
       "       [ 0, -1, -1,  1,  1, -1,  1,  1,  1,  0],\n",
       "       [ 0,  1, -1, -1, -1, -1, -1, -1,  1,  0],\n",
       "       [ 0,  1, -1, -1, -1,  1,  1,  1, -1,  0],\n",
       "       [ 0,  1,  1,  1,  1,  1,  1, -1,  1,  0],\n",
       "       [ 0,  0,  0,  0,  0,  0,  0,  0,  0,  0]])"
      ]
     },
     "execution_count": 40,
     "metadata": {},
     "output_type": "execute_result"
    }
   ],
   "source": [
    "B"
   ]
  },
  {
   "cell_type": "code",
   "execution_count": 41,
   "metadata": {},
   "outputs": [
    {
     "name": "stdout",
     "output_type": "stream",
     "text": [
      "Matrixes N,Z Internal\n",
      "[[ 0  0  0  0  0  0  0  0  0  0]\n",
      " [ 0 -1  1  3  3  5  3  3  1  0]\n",
      " [ 0 -3 -2  4  4  4  4  4  3  0]\n",
      " [ 0 -3  0  4  6  8  4  2  1  0]\n",
      " [ 0 -5 -2  2  4  4  2  6  1  0]\n",
      " [ 0 -3 -2 -2  0  2 -2  2  1  0]\n",
      " [ 0 -3 -2 -4 -2  0  2  4  1  0]\n",
      " [ 0  1  2 -2  0  0  0  0  1  0]\n",
      " [ 0  1  1 -1  1  3  3  3 -1  0]\n",
      " [ 0  0  0  0  0  0  0  0  0  0]]\n",
      "[[ 0  0  0  0  0  0  0  0  0  0]\n",
      " [ 0  1 -1  1  1 -1  1  1 -1  0]\n",
      " [ 0  1 -1  1  1  1  1  1 -1  0]\n",
      " [ 0  1  1  1  1 -1  1  1 -1  0]\n",
      " [ 0  1  1 -1  1  1  1 -1 -1  0]\n",
      " [ 0  1  1 -1 -1  1 -1  1 -1  0]\n",
      " [ 0 -1  1  1  1  1  1 -1 -1  0]\n",
      " [ 0  1 -1  1  1 -1 -1 -1  1  0]\n",
      " [ 0 -1 -1 -1 -1  1  1 -1 -1  0]\n",
      " [ 0  0  0  0  0  0  0  0  0  0]]\n",
      "\n"
     ]
    }
   ],
   "source": [
    "C=ising_step_J(B)"
   ]
  },
  {
   "cell_type": "code",
   "execution_count": 35,
   "metadata": {},
   "outputs": [
    {
     "name": "stdout",
     "output_type": "stream",
     "text": [
      "0\n",
      "1\n",
      "2\n",
      "3\n",
      "4\n"
     ]
    }
   ],
   "source": [
    "for i in range(0,5):\n",
    "    print(i)"
   ]
  },
  {
   "cell_type": "code",
   "execution_count": null,
   "metadata": {},
   "outputs": [],
   "source": []
  }
 ],
 "metadata": {
  "kernelspec": {
   "display_name": "Python 3",
   "language": "python",
   "name": "python3"
  },
  "language_info": {
   "codemirror_mode": {
    "name": "ipython",
    "version": 3
   },
   "file_extension": ".py",
   "mimetype": "text/x-python",
   "name": "python",
   "nbconvert_exporter": "python",
   "pygments_lexer": "ipython3",
   "version": "3.7.0"
  }
 },
 "nbformat": 4,
 "nbformat_minor": 2
}
